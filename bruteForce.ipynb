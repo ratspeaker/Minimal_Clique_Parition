{
 "cells": [
  {
   "cell_type": "code",
   "execution_count": 1,
   "id": "2f0bb06c",
   "metadata": {},
   "outputs": [],
   "source": [
    "def isFeasible(graph, color):\n",
    "    for i in range(len(graph)):\n",
    "        for j in range(len(graph[i])):\n",
    "            index = graph[i][j]\n",
    "            if color[index] == color[i]:\n",
    "                return False\n",
    "    return True \n",
    " \n",
    "def brute(graph, V, c, i, color):\n",
    "    if i == V:\n",
    "        if isFeasible(graph, color):\n",
    "            printSolution(color)\n",
    "            return True\n",
    "        return False \n",
    "    \n",
    "    for j in range(1, c + 1):\n",
    "        color[i] = j\n",
    "        if brute(graph, V, c, i + 1, color):\n",
    "            return True\n",
    "        color[i] = 0\n",
    " \n",
    "    return False"
   ]
  },
  {
   "cell_type": "code",
   "execution_count": 2,
   "id": "2edc05c9",
   "metadata": {},
   "outputs": [],
   "source": [
    "def printSolution(color):\n",
    "    print(\"Solution: \", end = \" \")\n",
    "    for i in range(len(color)):\n",
    "        print(str(color[i]), end=\" \")\n",
    "    print()"
   ]
  },
  {
   "cell_type": "code",
   "execution_count": 3,
   "id": "e6a1bba6",
   "metadata": {},
   "outputs": [],
   "source": [
    "def loadGraph(filename):\n",
    "    with open(str(filename), \"r\") as graph_instance:\n",
    "        chromatic_num = int(graph_instance.readline())\n",
    "        V, E = list(map(int, graph_instance.readline().split(\" \")))\n",
    "        graph = [[] for _ in range(V)]\n",
    "        for line in graph_instance:\n",
    "            if line.startswith('e'):\n",
    "                line = line.split(\" \")\n",
    "                del line[0]\n",
    "                edge = list(map(int, line))\n",
    "                if (edge[1]-1) not in graph[edge[0]-1]:\n",
    "                    graph[edge[0] - 1].append(edge[1] - 1)\n",
    "                    graph[edge[1] - 1].append(edge[0] - 1)\n",
    "    print(graph)\n",
    "    return chromatic_num, graph"
   ]
  },
  {
   "cell_type": "code",
   "execution_count": 4,
   "id": "c1678418",
   "metadata": {},
   "outputs": [
    {
     "name": "stdout",
     "output_type": "stream",
     "text": [
      "[[1, 2, 3, 4], [0, 2, 3, 4], [0, 1, 3], [0, 1, 2, 4], [0, 1, 3]]\n",
      "Solution:  1 2 3 4 3 \n",
      "Chromatic number: 4, Found number of color: 4\n"
     ]
    }
   ],
   "source": [
    "graph = []\n",
    "chromatic_num, graph = loadGraph(\"brute.txt\")\n",
    "color = [0 for i in range(len(graph))]\n",
    "        \n",
    "num_of_colors = 1\n",
    "num_of_vertices = len(graph)\n",
    "\n",
    "while(not brute(graph, num_of_vertices, num_of_colors, 0, color)):\n",
    "    num_of_colors = num_of_colors + 1\n",
    "    \n",
    "print(f'Chromatic number: {chromatic_num}, Found number of color: {num_of_colors}')"
   ]
  },
  {
   "cell_type": "code",
   "execution_count": null,
   "id": "4a839b94",
   "metadata": {},
   "outputs": [],
   "source": []
  },
  {
   "cell_type": "code",
   "execution_count": null,
   "id": "486882ef",
   "metadata": {},
   "outputs": [],
   "source": []
  }
 ],
 "metadata": {
  "kernelspec": {
   "display_name": "Python 3 (ipykernel)",
   "language": "python",
   "name": "python3"
  },
  "language_info": {
   "codemirror_mode": {
    "name": "ipython",
    "version": 3
   },
   "file_extension": ".py",
   "mimetype": "text/x-python",
   "name": "python",
   "nbconvert_exporter": "python",
   "pygments_lexer": "ipython3",
   "version": "3.9.10"
  }
 },
 "nbformat": 4,
 "nbformat_minor": 5
}
